{
 "cells": [
  {
   "cell_type": "markdown",
   "metadata": {},
   "source": [
    "## Examination and Prediction of Energy consumption in Buildings\n",
    "This notebook examines the energy consumption in different buildings and also attemtp to predict the future energy consumptions for some testing data."
   ]
  },
  {
   "cell_type": "code",
   "execution_count": 94,
   "metadata": {},
   "outputs": [],
   "source": [
    "import pandas as pd\n",
    "import numpy as np\n",
    "import os\n",
    "from sklearn.preprocessing import LabelEncoder\n",
    "import matplotlib.pyplot as plt\n",
    "from sklearn.model_selection import train_test_split \n",
    "import xgboost as xgb"
   ]
  },
  {
   "cell_type": "code",
   "execution_count": 2,
   "metadata": {},
   "outputs": [],
   "source": [
    "root= os.getcwd()\n",
    "train_df = pd.read_csv(root+'/energy-prediction/train.csv')\n",
    "weather_train_df = pd.read_csv(root+'/energy-prediction/weather_train.csv')"
   ]
  },
  {
   "cell_type": "code",
   "execution_count": 3,
   "metadata": {},
   "outputs": [
    {
     "data": {
      "text/html": [
       "<div>\n",
       "<style scoped>\n",
       "    .dataframe tbody tr th:only-of-type {\n",
       "        vertical-align: middle;\n",
       "    }\n",
       "\n",
       "    .dataframe tbody tr th {\n",
       "        vertical-align: top;\n",
       "    }\n",
       "\n",
       "    .dataframe thead th {\n",
       "        text-align: right;\n",
       "    }\n",
       "</style>\n",
       "<table border=\"1\" class=\"dataframe\">\n",
       "  <thead>\n",
       "    <tr style=\"text-align: right;\">\n",
       "      <th></th>\n",
       "      <th>building_id</th>\n",
       "      <th>meter</th>\n",
       "      <th>timestamp</th>\n",
       "      <th>meter_reading</th>\n",
       "    </tr>\n",
       "  </thead>\n",
       "  <tbody>\n",
       "    <tr>\n",
       "      <th>0</th>\n",
       "      <td>0</td>\n",
       "      <td>0</td>\n",
       "      <td>2016-01-01 00:00:00</td>\n",
       "      <td>0.0</td>\n",
       "    </tr>\n",
       "    <tr>\n",
       "      <th>1</th>\n",
       "      <td>1</td>\n",
       "      <td>0</td>\n",
       "      <td>2016-01-01 00:00:00</td>\n",
       "      <td>0.0</td>\n",
       "    </tr>\n",
       "    <tr>\n",
       "      <th>2</th>\n",
       "      <td>2</td>\n",
       "      <td>0</td>\n",
       "      <td>2016-01-01 00:00:00</td>\n",
       "      <td>0.0</td>\n",
       "    </tr>\n",
       "    <tr>\n",
       "      <th>3</th>\n",
       "      <td>3</td>\n",
       "      <td>0</td>\n",
       "      <td>2016-01-01 00:00:00</td>\n",
       "      <td>0.0</td>\n",
       "    </tr>\n",
       "    <tr>\n",
       "      <th>4</th>\n",
       "      <td>4</td>\n",
       "      <td>0</td>\n",
       "      <td>2016-01-01 00:00:00</td>\n",
       "      <td>0.0</td>\n",
       "    </tr>\n",
       "  </tbody>\n",
       "</table>\n",
       "</div>"
      ],
      "text/plain": [
       "   building_id  meter            timestamp  meter_reading\n",
       "0            0      0  2016-01-01 00:00:00            0.0\n",
       "1            1      0  2016-01-01 00:00:00            0.0\n",
       "2            2      0  2016-01-01 00:00:00            0.0\n",
       "3            3      0  2016-01-01 00:00:00            0.0\n",
       "4            4      0  2016-01-01 00:00:00            0.0"
      ]
     },
     "execution_count": 3,
     "metadata": {},
     "output_type": "execute_result"
    }
   ],
   "source": [
    "train_df.head()"
   ]
  },
  {
   "cell_type": "code",
   "execution_count": 4,
   "metadata": {},
   "outputs": [
    {
     "data": {
      "text/plain": [
       "building_id        int64\n",
       "meter              int64\n",
       "timestamp         object\n",
       "meter_reading    float64\n",
       "dtype: object"
      ]
     },
     "execution_count": 4,
     "metadata": {},
     "output_type": "execute_result"
    }
   ],
   "source": [
    "train_df.dtypes"
   ]
  },
  {
   "cell_type": "code",
   "execution_count": 5,
   "metadata": {},
   "outputs": [],
   "source": [
    "train_df['timestamp'] = train_df['timestamp'].astype('datetime64[ns]')"
   ]
  },
  {
   "cell_type": "code",
   "execution_count": 6,
   "metadata": {},
   "outputs": [
    {
     "data": {
      "text/html": [
       "<div>\n",
       "<style scoped>\n",
       "    .dataframe tbody tr th:only-of-type {\n",
       "        vertical-align: middle;\n",
       "    }\n",
       "\n",
       "    .dataframe tbody tr th {\n",
       "        vertical-align: top;\n",
       "    }\n",
       "\n",
       "    .dataframe thead th {\n",
       "        text-align: right;\n",
       "    }\n",
       "</style>\n",
       "<table border=\"1\" class=\"dataframe\">\n",
       "  <thead>\n",
       "    <tr style=\"text-align: right;\">\n",
       "      <th></th>\n",
       "      <th>site_id</th>\n",
       "      <th>timestamp</th>\n",
       "      <th>air_temperature</th>\n",
       "      <th>cloud_coverage</th>\n",
       "      <th>dew_temperature</th>\n",
       "      <th>precip_depth_1_hr</th>\n",
       "      <th>sea_level_pressure</th>\n",
       "      <th>wind_direction</th>\n",
       "      <th>wind_speed</th>\n",
       "    </tr>\n",
       "  </thead>\n",
       "  <tbody>\n",
       "    <tr>\n",
       "      <th>0</th>\n",
       "      <td>0</td>\n",
       "      <td>2016-01-01 00:00:00</td>\n",
       "      <td>25.0</td>\n",
       "      <td>6.0</td>\n",
       "      <td>20.0</td>\n",
       "      <td>NaN</td>\n",
       "      <td>1019.7</td>\n",
       "      <td>0.0</td>\n",
       "      <td>0.0</td>\n",
       "    </tr>\n",
       "    <tr>\n",
       "      <th>1</th>\n",
       "      <td>0</td>\n",
       "      <td>2016-01-01 01:00:00</td>\n",
       "      <td>24.4</td>\n",
       "      <td>NaN</td>\n",
       "      <td>21.1</td>\n",
       "      <td>-1.0</td>\n",
       "      <td>1020.2</td>\n",
       "      <td>70.0</td>\n",
       "      <td>1.5</td>\n",
       "    </tr>\n",
       "    <tr>\n",
       "      <th>2</th>\n",
       "      <td>0</td>\n",
       "      <td>2016-01-01 02:00:00</td>\n",
       "      <td>22.8</td>\n",
       "      <td>2.0</td>\n",
       "      <td>21.1</td>\n",
       "      <td>0.0</td>\n",
       "      <td>1020.2</td>\n",
       "      <td>0.0</td>\n",
       "      <td>0.0</td>\n",
       "    </tr>\n",
       "    <tr>\n",
       "      <th>3</th>\n",
       "      <td>0</td>\n",
       "      <td>2016-01-01 03:00:00</td>\n",
       "      <td>21.1</td>\n",
       "      <td>2.0</td>\n",
       "      <td>20.6</td>\n",
       "      <td>0.0</td>\n",
       "      <td>1020.1</td>\n",
       "      <td>0.0</td>\n",
       "      <td>0.0</td>\n",
       "    </tr>\n",
       "    <tr>\n",
       "      <th>4</th>\n",
       "      <td>0</td>\n",
       "      <td>2016-01-01 04:00:00</td>\n",
       "      <td>20.0</td>\n",
       "      <td>2.0</td>\n",
       "      <td>20.0</td>\n",
       "      <td>-1.0</td>\n",
       "      <td>1020.0</td>\n",
       "      <td>250.0</td>\n",
       "      <td>2.6</td>\n",
       "    </tr>\n",
       "  </tbody>\n",
       "</table>\n",
       "</div>"
      ],
      "text/plain": [
       "   site_id            timestamp  air_temperature  cloud_coverage  \\\n",
       "0        0  2016-01-01 00:00:00             25.0             6.0   \n",
       "1        0  2016-01-01 01:00:00             24.4             NaN   \n",
       "2        0  2016-01-01 02:00:00             22.8             2.0   \n",
       "3        0  2016-01-01 03:00:00             21.1             2.0   \n",
       "4        0  2016-01-01 04:00:00             20.0             2.0   \n",
       "\n",
       "   dew_temperature  precip_depth_1_hr  sea_level_pressure  wind_direction  \\\n",
       "0             20.0                NaN              1019.7             0.0   \n",
       "1             21.1               -1.0              1020.2            70.0   \n",
       "2             21.1                0.0              1020.2             0.0   \n",
       "3             20.6                0.0              1020.1             0.0   \n",
       "4             20.0               -1.0              1020.0           250.0   \n",
       "\n",
       "   wind_speed  \n",
       "0         0.0  \n",
       "1         1.5  \n",
       "2         0.0  \n",
       "3         0.0  \n",
       "4         2.6  "
      ]
     },
     "execution_count": 6,
     "metadata": {},
     "output_type": "execute_result"
    }
   ],
   "source": [
    "weather_train_df.head()"
   ]
  },
  {
   "cell_type": "code",
   "execution_count": 7,
   "metadata": {},
   "outputs": [],
   "source": [
    "weather_train_df['timestamp'] = weather_train_df['timestamp'].astype('datetime64[ns]')"
   ]
  },
  {
   "cell_type": "code",
   "execution_count": 8,
   "metadata": {},
   "outputs": [],
   "source": [
    "test_df = pd.read_csv(root+'/energy-prediction/test.csv')\n",
    "weather_test_df = pd.read_csv(root+'/energy-prediction/weather_test.csv')"
   ]
  },
  {
   "cell_type": "code",
   "execution_count": 9,
   "metadata": {},
   "outputs": [],
   "source": [
    "test_df['timestamp'] = test_df['timestamp'].astype('datetime64[ns]')\n",
    "weather_test_df['timestamp'] = weather_test_df['timestamp'].astype('datetime64[ns]')"
   ]
  },
  {
   "cell_type": "code",
   "execution_count": 14,
   "metadata": {},
   "outputs": [],
   "source": [
    "bld_data_df = pd.read_csv(root+'/energy-prediction/building_metadata.csv')"
   ]
  },
  {
   "cell_type": "code",
   "execution_count": 15,
   "metadata": {},
   "outputs": [
    {
     "data": {
      "text/html": [
       "<div>\n",
       "<style scoped>\n",
       "    .dataframe tbody tr th:only-of-type {\n",
       "        vertical-align: middle;\n",
       "    }\n",
       "\n",
       "    .dataframe tbody tr th {\n",
       "        vertical-align: top;\n",
       "    }\n",
       "\n",
       "    .dataframe thead th {\n",
       "        text-align: right;\n",
       "    }\n",
       "</style>\n",
       "<table border=\"1\" class=\"dataframe\">\n",
       "  <thead>\n",
       "    <tr style=\"text-align: right;\">\n",
       "      <th></th>\n",
       "      <th>site_id</th>\n",
       "      <th>building_id</th>\n",
       "      <th>primary_use</th>\n",
       "      <th>square_feet</th>\n",
       "      <th>year_built</th>\n",
       "      <th>floor_count</th>\n",
       "    </tr>\n",
       "  </thead>\n",
       "  <tbody>\n",
       "    <tr>\n",
       "      <th>0</th>\n",
       "      <td>0</td>\n",
       "      <td>0</td>\n",
       "      <td>Education</td>\n",
       "      <td>7432</td>\n",
       "      <td>2008.0</td>\n",
       "      <td>NaN</td>\n",
       "    </tr>\n",
       "    <tr>\n",
       "      <th>1</th>\n",
       "      <td>0</td>\n",
       "      <td>1</td>\n",
       "      <td>Education</td>\n",
       "      <td>2720</td>\n",
       "      <td>2004.0</td>\n",
       "      <td>NaN</td>\n",
       "    </tr>\n",
       "  </tbody>\n",
       "</table>\n",
       "</div>"
      ],
      "text/plain": [
       "   site_id  building_id primary_use  square_feet  year_built  floor_count\n",
       "0        0            0   Education         7432      2008.0          NaN\n",
       "1        0            1   Education         2720      2004.0          NaN"
      ]
     },
     "execution_count": 15,
     "metadata": {},
     "output_type": "execute_result"
    }
   ],
   "source": [
    "bld_data_df.head(2)"
   ]
  },
  {
   "cell_type": "code",
   "execution_count": 16,
   "metadata": {},
   "outputs": [
    {
     "data": {
      "text/plain": [
       "site_id          int64\n",
       "building_id      int64\n",
       "primary_use     object\n",
       "square_feet      int64\n",
       "year_built     float64\n",
       "floor_count    float64\n",
       "dtype: object"
      ]
     },
     "execution_count": 16,
     "metadata": {},
     "output_type": "execute_result"
    }
   ],
   "source": [
    "bld_data_df.dtypes"
   ]
  },
  {
   "cell_type": "code",
   "execution_count": 17,
   "metadata": {},
   "outputs": [],
   "source": [
    "train_data_df = train_df.merge(bld_data_df, on='building_id', how='left')\n",
    "train_data_df = train_data_df.merge(weather_train_df, on=['site_id', 'timestamp'], how='left')"
   ]
  },
  {
   "cell_type": "code",
   "execution_count": 20,
   "metadata": {},
   "outputs": [
    {
     "data": {
      "text/plain": [
       "Index(['building_id', 'meter', 'timestamp', 'meter_reading', 'site_id',\n",
       "       'primary_use', 'square_feet', 'year_built', 'floor_count',\n",
       "       'air_temperature', 'cloud_coverage', 'dew_temperature',\n",
       "       'precip_depth_1_hr', 'sea_level_pressure', 'wind_direction',\n",
       "       'wind_speed'],\n",
       "      dtype='object')"
      ]
     },
     "execution_count": 20,
     "metadata": {},
     "output_type": "execute_result"
    }
   ],
   "source": [
    "train_data_df.columns"
   ]
  },
  {
   "cell_type": "code",
   "execution_count": 21,
   "metadata": {},
   "outputs": [
    {
     "data": {
      "text/html": [
       "<div>\n",
       "<style scoped>\n",
       "    .dataframe tbody tr th:only-of-type {\n",
       "        vertical-align: middle;\n",
       "    }\n",
       "\n",
       "    .dataframe tbody tr th {\n",
       "        vertical-align: top;\n",
       "    }\n",
       "\n",
       "    .dataframe thead th {\n",
       "        text-align: right;\n",
       "    }\n",
       "</style>\n",
       "<table border=\"1\" class=\"dataframe\">\n",
       "  <thead>\n",
       "    <tr style=\"text-align: right;\">\n",
       "      <th></th>\n",
       "      <th>building_id</th>\n",
       "      <th>meter</th>\n",
       "      <th>timestamp</th>\n",
       "      <th>meter_reading</th>\n",
       "      <th>site_id</th>\n",
       "      <th>primary_use</th>\n",
       "      <th>square_feet</th>\n",
       "      <th>year_built</th>\n",
       "      <th>floor_count</th>\n",
       "      <th>air_temperature</th>\n",
       "      <th>cloud_coverage</th>\n",
       "      <th>dew_temperature</th>\n",
       "      <th>precip_depth_1_hr</th>\n",
       "      <th>sea_level_pressure</th>\n",
       "      <th>wind_direction</th>\n",
       "      <th>wind_speed</th>\n",
       "    </tr>\n",
       "  </thead>\n",
       "  <tbody>\n",
       "    <tr>\n",
       "      <th>0</th>\n",
       "      <td>0</td>\n",
       "      <td>0</td>\n",
       "      <td>2016-01-01</td>\n",
       "      <td>0.0</td>\n",
       "      <td>0</td>\n",
       "      <td>Education</td>\n",
       "      <td>7432</td>\n",
       "      <td>2008.0</td>\n",
       "      <td>NaN</td>\n",
       "      <td>25.0</td>\n",
       "      <td>6.0</td>\n",
       "      <td>20.0</td>\n",
       "      <td>NaN</td>\n",
       "      <td>1019.7</td>\n",
       "      <td>0.0</td>\n",
       "      <td>0.0</td>\n",
       "    </tr>\n",
       "    <tr>\n",
       "      <th>1</th>\n",
       "      <td>1</td>\n",
       "      <td>0</td>\n",
       "      <td>2016-01-01</td>\n",
       "      <td>0.0</td>\n",
       "      <td>0</td>\n",
       "      <td>Education</td>\n",
       "      <td>2720</td>\n",
       "      <td>2004.0</td>\n",
       "      <td>NaN</td>\n",
       "      <td>25.0</td>\n",
       "      <td>6.0</td>\n",
       "      <td>20.0</td>\n",
       "      <td>NaN</td>\n",
       "      <td>1019.7</td>\n",
       "      <td>0.0</td>\n",
       "      <td>0.0</td>\n",
       "    </tr>\n",
       "    <tr>\n",
       "      <th>2</th>\n",
       "      <td>2</td>\n",
       "      <td>0</td>\n",
       "      <td>2016-01-01</td>\n",
       "      <td>0.0</td>\n",
       "      <td>0</td>\n",
       "      <td>Education</td>\n",
       "      <td>5376</td>\n",
       "      <td>1991.0</td>\n",
       "      <td>NaN</td>\n",
       "      <td>25.0</td>\n",
       "      <td>6.0</td>\n",
       "      <td>20.0</td>\n",
       "      <td>NaN</td>\n",
       "      <td>1019.7</td>\n",
       "      <td>0.0</td>\n",
       "      <td>0.0</td>\n",
       "    </tr>\n",
       "  </tbody>\n",
       "</table>\n",
       "</div>"
      ],
      "text/plain": [
       "   building_id  meter  timestamp  meter_reading  site_id primary_use  \\\n",
       "0            0      0 2016-01-01            0.0        0   Education   \n",
       "1            1      0 2016-01-01            0.0        0   Education   \n",
       "2            2      0 2016-01-01            0.0        0   Education   \n",
       "\n",
       "   square_feet  year_built  floor_count  air_temperature  cloud_coverage  \\\n",
       "0         7432      2008.0          NaN             25.0             6.0   \n",
       "1         2720      2004.0          NaN             25.0             6.0   \n",
       "2         5376      1991.0          NaN             25.0             6.0   \n",
       "\n",
       "   dew_temperature  precip_depth_1_hr  sea_level_pressure  wind_direction  \\\n",
       "0             20.0                NaN              1019.7             0.0   \n",
       "1             20.0                NaN              1019.7             0.0   \n",
       "2             20.0                NaN              1019.7             0.0   \n",
       "\n",
       "   wind_speed  \n",
       "0         0.0  \n",
       "1         0.0  \n",
       "2         0.0  "
      ]
     },
     "execution_count": 21,
     "metadata": {},
     "output_type": "execute_result"
    }
   ],
   "source": [
    "train_data_df.head(3)"
   ]
  },
  {
   "cell_type": "code",
   "execution_count": 57,
   "metadata": {},
   "outputs": [],
   "source": [
    "#back = train_data_df.copy()\n",
    "#train_data_df = train_data_df.dropna()\n",
    "train_data_df = back"
   ]
  },
  {
   "cell_type": "code",
   "execution_count": 26,
   "metadata": {},
   "outputs": [],
   "source": []
  },
  {
   "cell_type": "code",
   "execution_count": 27,
   "metadata": {},
   "outputs": [],
   "source": [
    "#del train_data_df['meter_reading']"
   ]
  },
  {
   "cell_type": "code",
   "execution_count": 28,
   "metadata": {},
   "outputs": [
    {
     "data": {
      "text/html": [
       "<div>\n",
       "<style scoped>\n",
       "    .dataframe tbody tr th:only-of-type {\n",
       "        vertical-align: middle;\n",
       "    }\n",
       "\n",
       "    .dataframe tbody tr th {\n",
       "        vertical-align: top;\n",
       "    }\n",
       "\n",
       "    .dataframe thead th {\n",
       "        text-align: right;\n",
       "    }\n",
       "</style>\n",
       "<table border=\"1\" class=\"dataframe\">\n",
       "  <thead>\n",
       "    <tr style=\"text-align: right;\">\n",
       "      <th></th>\n",
       "      <th>building_id</th>\n",
       "      <th>meter</th>\n",
       "      <th>timestamp</th>\n",
       "      <th>site_id</th>\n",
       "      <th>primary_use</th>\n",
       "      <th>square_feet</th>\n",
       "      <th>year_built</th>\n",
       "      <th>floor_count</th>\n",
       "      <th>air_temperature</th>\n",
       "      <th>cloud_coverage</th>\n",
       "      <th>dew_temperature</th>\n",
       "      <th>precip_depth_1_hr</th>\n",
       "      <th>sea_level_pressure</th>\n",
       "      <th>wind_direction</th>\n",
       "      <th>wind_speed</th>\n",
       "    </tr>\n",
       "  </thead>\n",
       "  <tbody>\n",
       "    <tr>\n",
       "      <th>3021</th>\n",
       "      <td>565</td>\n",
       "      <td>0</td>\n",
       "      <td>2016-01-01 01:00:00</td>\n",
       "      <td>4</td>\n",
       "      <td>Education</td>\n",
       "      <td>15326</td>\n",
       "      <td>1954.0</td>\n",
       "      <td>2.0</td>\n",
       "      <td>9.4</td>\n",
       "      <td>0.0</td>\n",
       "      <td>-2.2</td>\n",
       "      <td>0.0</td>\n",
       "      <td>1021.4</td>\n",
       "      <td>360.0</td>\n",
       "      <td>3.1</td>\n",
       "    </tr>\n",
       "    <tr>\n",
       "      <th>3022</th>\n",
       "      <td>566</td>\n",
       "      <td>0</td>\n",
       "      <td>2016-01-01 01:00:00</td>\n",
       "      <td>4</td>\n",
       "      <td>Education</td>\n",
       "      <td>2010</td>\n",
       "      <td>1957.0</td>\n",
       "      <td>1.0</td>\n",
       "      <td>9.4</td>\n",
       "      <td>0.0</td>\n",
       "      <td>-2.2</td>\n",
       "      <td>0.0</td>\n",
       "      <td>1021.4</td>\n",
       "      <td>360.0</td>\n",
       "      <td>3.1</td>\n",
       "    </tr>\n",
       "    <tr>\n",
       "      <th>3023</th>\n",
       "      <td>569</td>\n",
       "      <td>0</td>\n",
       "      <td>2016-01-01 01:00:00</td>\n",
       "      <td>4</td>\n",
       "      <td>Education</td>\n",
       "      <td>86091</td>\n",
       "      <td>1964.0</td>\n",
       "      <td>8.0</td>\n",
       "      <td>9.4</td>\n",
       "      <td>0.0</td>\n",
       "      <td>-2.2</td>\n",
       "      <td>0.0</td>\n",
       "      <td>1021.4</td>\n",
       "      <td>360.0</td>\n",
       "      <td>3.1</td>\n",
       "    </tr>\n",
       "  </tbody>\n",
       "</table>\n",
       "</div>"
      ],
      "text/plain": [
       "      building_id  meter           timestamp  site_id primary_use  \\\n",
       "3021          565      0 2016-01-01 01:00:00        4   Education   \n",
       "3022          566      0 2016-01-01 01:00:00        4   Education   \n",
       "3023          569      0 2016-01-01 01:00:00        4   Education   \n",
       "\n",
       "      square_feet  year_built  floor_count  air_temperature  cloud_coverage  \\\n",
       "3021        15326      1954.0          2.0              9.4             0.0   \n",
       "3022         2010      1957.0          1.0              9.4             0.0   \n",
       "3023        86091      1964.0          8.0              9.4             0.0   \n",
       "\n",
       "      dew_temperature  precip_depth_1_hr  sea_level_pressure  wind_direction  \\\n",
       "3021             -2.2                0.0              1021.4           360.0   \n",
       "3022             -2.2                0.0              1021.4           360.0   \n",
       "3023             -2.2                0.0              1021.4           360.0   \n",
       "\n",
       "      wind_speed  \n",
       "3021         3.1  \n",
       "3022         3.1  \n",
       "3023         3.1  "
      ]
     },
     "execution_count": 28,
     "metadata": {},
     "output_type": "execute_result"
    }
   ],
   "source": [
    "train_data_df.head(3)"
   ]
  },
  {
   "cell_type": "code",
   "execution_count": 24,
   "metadata": {},
   "outputs": [
    {
     "data": {
      "text/plain": [
       "(12127645, 16)"
      ]
     },
     "execution_count": 24,
     "metadata": {},
     "output_type": "execute_result"
    }
   ],
   "source": [
    "train_data_df[train_data_df['year_built'].isnull()].shape"
   ]
  },
  {
   "cell_type": "code",
   "execution_count": 21,
   "metadata": {},
   "outputs": [
    {
     "data": {
      "text/plain": [
       "array(['Education', 'Lodging/residential', 'Office',\n",
       "       'Entertainment/public assembly', 'Other', 'Retail', 'Parking',\n",
       "       'Public services', 'Warehouse/storage', 'Food sales and service',\n",
       "       'Religious worship', 'Healthcare', 'Utility', 'Technology/science',\n",
       "       'Manufacturing/industrial', 'Services'], dtype=object)"
      ]
     },
     "execution_count": 21,
     "metadata": {},
     "output_type": "execute_result"
    }
   ],
   "source": [
    "train_data_df['primary_use'].unique()"
   ]
  },
  {
   "cell_type": "code",
   "execution_count": 76,
   "metadata": {},
   "outputs": [],
   "source": [
    "primary_use_agg = train_data_df.groupby(['primary_use']).agg(['size','count', 'idxmax', 'max'])"
   ]
  },
  {
   "cell_type": "code",
   "execution_count": 71,
   "metadata": {},
   "outputs": [],
   "source": [
    "primary_use_agg = primary_use_agg.reset_index()"
   ]
  },
  {
   "cell_type": "code",
   "execution_count": 72,
   "metadata": {},
   "outputs": [
    {
     "data": {
      "text/plain": [
       "MultiIndex(levels=[['building_id', 'meter', 'timestamp', 'meter_reading', 'site_id', 'square_feet', 'year_built', 'floor_count', 'air_temperature', 'cloud_coverage', 'dew_temperature', 'precip_depth_1_hr', 'sea_level_pressure', 'wind_direction', 'wind_speed', 'primary_use'], ['size', 'idxmax', 'max', '']],\n",
       "           labels=[[15, 0, 0, 0, 1, 1, 1, 2, 2, 2, 3, 3, 3, 4, 4, 4, 5, 5, 5, 6, 6, 6, 7, 7, 7, 8, 8, 8, 9, 9, 9, 10, 10, 10, 11, 11, 11, 12, 12, 12, 13, 13, 13, 14, 14, 14], [3, 0, 1, 2, 0, 1, 2, 0, 1, 2, 0, 1, 2, 0, 1, 2, 0, 1, 2, 0, 1, 2, 0, 1, 2, 0, 1, 2, 0, 1, 2, 0, 1, 2, 0, 1, 2, 0, 1, 2, 0, 1, 2, 0, 1, 2]])"
      ]
     },
     "execution_count": 72,
     "metadata": {},
     "output_type": "execute_result"
    }
   ],
   "source": [
    "primary_use_agg.columns"
   ]
  },
  {
   "cell_type": "code",
   "execution_count": 67,
   "metadata": {},
   "outputs": [],
   "source": [
    "# this reshapes an aggregate variable so that we can easily assess its data via the column names\n",
    "def reshape_agg_variable(agg_variable):\n",
    "    level_0 = agg_variable.columns.droplevel(0)\n",
    "    level_1 = agg_variable.columns.droplevel(1)\n",
    "    level_0 = ['' if x == '' else '-' + x for x in level_0]\n",
    "    agg_variable.columns = level_1 + level_0\n",
    "    agg_variable.rename_axis(None, axis=1)\n",
    "    return agg_variable    "
   ]
  },
  {
   "cell_type": "code",
   "execution_count": 73,
   "metadata": {},
   "outputs": [
    {
     "data": {
      "text/html": [
       "<div>\n",
       "<style scoped>\n",
       "    .dataframe tbody tr th:only-of-type {\n",
       "        vertical-align: middle;\n",
       "    }\n",
       "\n",
       "    .dataframe tbody tr th {\n",
       "        vertical-align: top;\n",
       "    }\n",
       "\n",
       "    .dataframe thead th {\n",
       "        text-align: right;\n",
       "    }\n",
       "</style>\n",
       "<table border=\"1\" class=\"dataframe\">\n",
       "  <thead>\n",
       "    <tr style=\"text-align: right;\">\n",
       "      <th></th>\n",
       "      <th>primary_use</th>\n",
       "      <th>building_id-size</th>\n",
       "      <th>building_id-idxmax</th>\n",
       "      <th>building_id-max</th>\n",
       "      <th>meter-size</th>\n",
       "      <th>meter-idxmax</th>\n",
       "      <th>meter-max</th>\n",
       "      <th>timestamp-size</th>\n",
       "      <th>timestamp-idxmax</th>\n",
       "      <th>timestamp-max</th>\n",
       "      <th>...</th>\n",
       "      <th>precip_depth_1_hr-max</th>\n",
       "      <th>sea_level_pressure-size</th>\n",
       "      <th>sea_level_pressure-idxmax</th>\n",
       "      <th>sea_level_pressure-max</th>\n",
       "      <th>wind_direction-size</th>\n",
       "      <th>wind_direction-idxmax</th>\n",
       "      <th>wind_direction-max</th>\n",
       "      <th>wind_speed-size</th>\n",
       "      <th>wind_speed-idxmax</th>\n",
       "      <th>wind_speed-max</th>\n",
       "    </tr>\n",
       "  </thead>\n",
       "  <tbody>\n",
       "    <tr>\n",
       "      <th>0</th>\n",
       "      <td>Education</td>\n",
       "      <td>8165504</td>\n",
       "      <td>2297</td>\n",
       "      <td>1445</td>\n",
       "      <td>8165504</td>\n",
       "      <td>105</td>\n",
       "      <td>3</td>\n",
       "      <td>8165504</td>\n",
       "      <td>20213734</td>\n",
       "      <td>2016-12-31 23:00:00</td>\n",
       "      <td>...</td>\n",
       "      <td>343.0</td>\n",
       "      <td>8165504</td>\n",
       "      <td>19982313</td>\n",
       "      <td>1045.5</td>\n",
       "      <td>8165504</td>\n",
       "      <td>3021</td>\n",
       "      <td>360.0</td>\n",
       "      <td>8165504</td>\n",
       "      <td>1737955</td>\n",
       "      <td>19.0</td>\n",
       "    </tr>\n",
       "    <tr>\n",
       "      <th>1</th>\n",
       "      <td>Entertainment/public assembly</td>\n",
       "      <td>2264917</td>\n",
       "      <td>2298</td>\n",
       "      <td>1446</td>\n",
       "      <td>2264917</td>\n",
       "      <td>211</td>\n",
       "      <td>3</td>\n",
       "      <td>2264917</td>\n",
       "      <td>20213746</td>\n",
       "      <td>2016-12-31 23:00:00</td>\n",
       "      <td>...</td>\n",
       "      <td>343.0</td>\n",
       "      <td>2264917</td>\n",
       "      <td>19982353</td>\n",
       "      <td>1045.5</td>\n",
       "      <td>2264917</td>\n",
       "      <td>3053</td>\n",
       "      <td>360.0</td>\n",
       "      <td>2264917</td>\n",
       "      <td>1737981</td>\n",
       "      <td>19.0</td>\n",
       "    </tr>\n",
       "    <tr>\n",
       "      <th>2</th>\n",
       "      <td>Food sales and service</td>\n",
       "      <td>114090</td>\n",
       "      <td>1901</td>\n",
       "      <td>1265</td>\n",
       "      <td>114090</td>\n",
       "      <td>216</td>\n",
       "      <td>3</td>\n",
       "      <td>114090</td>\n",
       "      <td>20213973</td>\n",
       "      <td>2016-12-31 23:00:00</td>\n",
       "      <td>...</td>\n",
       "      <td>216.0</td>\n",
       "      <td>114090</td>\n",
       "      <td>19517008</td>\n",
       "      <td>1040.3</td>\n",
       "      <td>114090</td>\n",
       "      <td>192570</td>\n",
       "      <td>360.0</td>\n",
       "      <td>114090</td>\n",
       "      <td>17807791</td>\n",
       "      <td>16.0</td>\n",
       "    </tr>\n",
       "    <tr>\n",
       "      <th>3</th>\n",
       "      <td>Healthcare</td>\n",
       "      <td>398527</td>\n",
       "      <td>2203</td>\n",
       "      <td>1388</td>\n",
       "      <td>398527</td>\n",
       "      <td>1834</td>\n",
       "      <td>3</td>\n",
       "      <td>398527</td>\n",
       "      <td>20214037</td>\n",
       "      <td>2016-12-31 23:00:00</td>\n",
       "      <td>...</td>\n",
       "      <td>239.0</td>\n",
       "      <td>398527</td>\n",
       "      <td>19517364</td>\n",
       "      <td>1042.2</td>\n",
       "      <td>398527</td>\n",
       "      <td>168294</td>\n",
       "      <td>360.0</td>\n",
       "      <td>398527</td>\n",
       "      <td>2126643</td>\n",
       "      <td>18.5</td>\n",
       "    </tr>\n",
       "    <tr>\n",
       "      <th>4</th>\n",
       "      <td>Lodging/residential</td>\n",
       "      <td>2146413</td>\n",
       "      <td>2299</td>\n",
       "      <td>1447</td>\n",
       "      <td>2146413</td>\n",
       "      <td>182</td>\n",
       "      <td>3</td>\n",
       "      <td>2146413</td>\n",
       "      <td>20213740</td>\n",
       "      <td>2016-12-31 23:00:00</td>\n",
       "      <td>...</td>\n",
       "      <td>343.0</td>\n",
       "      <td>2146413</td>\n",
       "      <td>19982343</td>\n",
       "      <td>1045.5</td>\n",
       "      <td>2146413</td>\n",
       "      <td>3032</td>\n",
       "      <td>360.0</td>\n",
       "      <td>2146413</td>\n",
       "      <td>2126644</td>\n",
       "      <td>18.5</td>\n",
       "    </tr>\n",
       "  </tbody>\n",
       "</table>\n",
       "<p>5 rows × 46 columns</p>\n",
       "</div>"
      ],
      "text/plain": [
       "                     primary_use  building_id-size  building_id-idxmax  \\\n",
       "0                      Education           8165504                2297   \n",
       "1  Entertainment/public assembly           2264917                2298   \n",
       "2         Food sales and service            114090                1901   \n",
       "3                     Healthcare            398527                2203   \n",
       "4            Lodging/residential           2146413                2299   \n",
       "\n",
       "   building_id-max  meter-size  meter-idxmax  meter-max  timestamp-size  \\\n",
       "0             1445     8165504           105          3         8165504   \n",
       "1             1446     2264917           211          3         2264917   \n",
       "2             1265      114090           216          3          114090   \n",
       "3             1388      398527          1834          3          398527   \n",
       "4             1447     2146413           182          3         2146413   \n",
       "\n",
       "   timestamp-idxmax       timestamp-max       ...        \\\n",
       "0          20213734 2016-12-31 23:00:00       ...         \n",
       "1          20213746 2016-12-31 23:00:00       ...         \n",
       "2          20213973 2016-12-31 23:00:00       ...         \n",
       "3          20214037 2016-12-31 23:00:00       ...         \n",
       "4          20213740 2016-12-31 23:00:00       ...         \n",
       "\n",
       "   precip_depth_1_hr-max  sea_level_pressure-size  sea_level_pressure-idxmax  \\\n",
       "0                  343.0                  8165504                   19982313   \n",
       "1                  343.0                  2264917                   19982353   \n",
       "2                  216.0                   114090                   19517008   \n",
       "3                  239.0                   398527                   19517364   \n",
       "4                  343.0                  2146413                   19982343   \n",
       "\n",
       "   sea_level_pressure-max  wind_direction-size  wind_direction-idxmax  \\\n",
       "0                  1045.5              8165504                   3021   \n",
       "1                  1045.5              2264917                   3053   \n",
       "2                  1040.3               114090                 192570   \n",
       "3                  1042.2               398527                 168294   \n",
       "4                  1045.5              2146413                   3032   \n",
       "\n",
       "   wind_direction-max  wind_speed-size  wind_speed-idxmax  wind_speed-max  \n",
       "0               360.0          8165504            1737955            19.0  \n",
       "1               360.0          2264917            1737981            19.0  \n",
       "2               360.0           114090           17807791            16.0  \n",
       "3               360.0           398527            2126643            18.5  \n",
       "4               360.0          2146413            2126644            18.5  \n",
       "\n",
       "[5 rows x 46 columns]"
      ]
     },
     "execution_count": 73,
     "metadata": {},
     "output_type": "execute_result"
    }
   ],
   "source": [
    "primary_use_agg= reshape_agg_variable(primary_use_agg)\n",
    "primary_use_agg.head()"
   ]
  },
  {
   "cell_type": "code",
   "execution_count": 45,
   "metadata": {},
   "outputs": [
    {
     "data": {
      "text/plain": [
       "0    239233\n",
       "1     27139\n",
       "2     13085\n",
       "3      9111\n",
       "4     21702\n",
       "5      7643\n",
       "6      3815\n",
       "Name: building_id-size, dtype: int64"
      ]
     },
     "execution_count": 45,
     "metadata": {},
     "output_type": "execute_result"
    }
   ],
   "source": [
    "primary_use_agg['building_id-size']"
   ]
  },
  {
   "cell_type": "code",
   "execution_count": 56,
   "metadata": {},
   "outputs": [
    {
     "data": {
      "image/png": "[encoded data removed]",
      "text/plain": [
       "<Figure size 432x288 with 1 Axes>"
      ]
     },
     "metadata": {
      "needs_background": "light"
     },
     "output_type": "display_data"
    }
   ],
   "source": [
    "bld_plt = pd.DataFrame()\n",
    "bld_plt['Primary use'] = primary_use_agg['primary_use']\n",
    "bld_plt['No of Occurence'] = primary_use_agg['building_id-size']\n",
    "\n",
    "plt.barh(bld_plt['Primary use'], bld_plt['No of Occurence'], align='center', alpha=0.5)\n",
    "#plt.xticks(y_pos, objects)\n",
    "plt.xlabel('No of Occurence')\n",
    "plt.title('Usage Occurence by Place Type')\n",
    "\n",
    "plt.show()"
   ]
  },
  {
   "cell_type": "code",
   "execution_count": 53,
   "metadata": {},
   "outputs": [
    {
     "data": {
      "text/html": [
       "<div>\n",
       "<style scoped>\n",
       "    .dataframe tbody tr th:only-of-type {\n",
       "        vertical-align: middle;\n",
       "    }\n",
       "\n",
       "    .dataframe tbody tr th {\n",
       "        vertical-align: top;\n",
       "    }\n",
       "\n",
       "    .dataframe thead th {\n",
       "        text-align: right;\n",
       "    }\n",
       "</style>\n",
       "<table border=\"1\" class=\"dataframe\">\n",
       "  <thead>\n",
       "    <tr style=\"text-align: right;\">\n",
       "      <th></th>\n",
       "      <th>Primary use</th>\n",
       "      <th>No of Occurence</th>\n",
       "    </tr>\n",
       "  </thead>\n",
       "  <tbody>\n",
       "    <tr>\n",
       "      <th>0</th>\n",
       "      <td>Education</td>\n",
       "      <td>239233</td>\n",
       "    </tr>\n",
       "    <tr>\n",
       "      <th>1</th>\n",
       "      <td>Entertainment/public assembly</td>\n",
       "      <td>27139</td>\n",
       "    </tr>\n",
       "    <tr>\n",
       "      <th>2</th>\n",
       "      <td>Lodging/residential</td>\n",
       "      <td>13085</td>\n",
       "    </tr>\n",
       "    <tr>\n",
       "      <th>3</th>\n",
       "      <td>Parking</td>\n",
       "      <td>9111</td>\n",
       "    </tr>\n",
       "    <tr>\n",
       "      <th>4</th>\n",
       "      <td>Public services</td>\n",
       "      <td>21702</td>\n",
       "    </tr>\n",
       "    <tr>\n",
       "      <th>5</th>\n",
       "      <td>Technology/science</td>\n",
       "      <td>7643</td>\n",
       "    </tr>\n",
       "    <tr>\n",
       "      <th>6</th>\n",
       "      <td>Utility</td>\n",
       "      <td>3815</td>\n",
       "    </tr>\n",
       "  </tbody>\n",
       "</table>\n",
       "</div>"
      ],
      "text/plain": [
       "                     Primary use  No of Occurence\n",
       "0                      Education           239233\n",
       "1  Entertainment/public assembly            27139\n",
       "2            Lodging/residential            13085\n",
       "3                        Parking             9111\n",
       "4                Public services            21702\n",
       "5             Technology/science             7643\n",
       "6                        Utility             3815"
      ]
     },
     "execution_count": 53,
     "metadata": {},
     "output_type": "execute_result"
    }
   ],
   "source": [
    "bld_plt"
   ]
  },
  {
   "cell_type": "code",
   "execution_count": 74,
   "metadata": {},
   "outputs": [],
   "source": [
    "primary_use_agg_meter = train_data_df.groupby(['primary_use']).agg({'meter_reading':['count','sum', 'idxmax', 'max']})"
   ]
  },
  {
   "cell_type": "code",
   "execution_count": 75,
   "metadata": {},
   "outputs": [
    {
     "data": {
      "text/html": [
       "<div>\n",
       "<style scoped>\n",
       "    .dataframe tbody tr th:only-of-type {\n",
       "        vertical-align: middle;\n",
       "    }\n",
       "\n",
       "    .dataframe tbody tr th {\n",
       "        vertical-align: top;\n",
       "    }\n",
       "\n",
       "    .dataframe thead tr th {\n",
       "        text-align: left;\n",
       "    }\n",
       "\n",
       "    .dataframe thead tr:last-of-type th {\n",
       "        text-align: right;\n",
       "    }\n",
       "</style>\n",
       "<table border=\"1\" class=\"dataframe\">\n",
       "  <thead>\n",
       "    <tr>\n",
       "      <th></th>\n",
       "      <th colspan=\"4\" halign=\"left\">meter_reading</th>\n",
       "    </tr>\n",
       "    <tr>\n",
       "      <th></th>\n",
       "      <th>count</th>\n",
       "      <th>sum</th>\n",
       "      <th>idxmax</th>\n",
       "      <th>max</th>\n",
       "    </tr>\n",
       "    <tr>\n",
       "      <th>primary_use</th>\n",
       "      <th></th>\n",
       "      <th></th>\n",
       "      <th></th>\n",
       "      <th></th>\n",
       "    </tr>\n",
       "  </thead>\n",
       "  <tbody>\n",
       "    <tr>\n",
       "      <th>Education</th>\n",
       "      <td>8165504</td>\n",
       "      <td>3.743959e+10</td>\n",
       "      <td>8907488</td>\n",
       "      <td>21904700.00</td>\n",
       "    </tr>\n",
       "    <tr>\n",
       "      <th>Entertainment/public assembly</th>\n",
       "      <td>2264917</td>\n",
       "      <td>1.073300e+09</td>\n",
       "      <td>13851463</td>\n",
       "      <td>880374.00</td>\n",
       "    </tr>\n",
       "    <tr>\n",
       "      <th>Food sales and service</th>\n",
       "      <td>114090</td>\n",
       "      <td>3.478696e+07</td>\n",
       "      <td>16968337</td>\n",
       "      <td>6895.63</td>\n",
       "    </tr>\n",
       "    <tr>\n",
       "      <th>Healthcare</th>\n",
       "      <td>398527</td>\n",
       "      <td>2.943511e+08</td>\n",
       "      <td>19443375</td>\n",
       "      <td>28189.50</td>\n",
       "    </tr>\n",
       "    <tr>\n",
       "      <th>Lodging/residential</th>\n",
       "      <td>2146413</td>\n",
       "      <td>6.003741e+08</td>\n",
       "      <td>5546980</td>\n",
       "      <td>45409.20</td>\n",
       "    </tr>\n",
       "  </tbody>\n",
       "</table>\n",
       "</div>"
      ],
      "text/plain": [
       "                              meter_reading                          \\\n",
       "                                      count           sum    idxmax   \n",
       "primary_use                                                           \n",
       "Education                           8165504  3.743959e+10   8907488   \n",
       "Entertainment/public assembly       2264917  1.073300e+09  13851463   \n",
       "Food sales and service               114090  3.478696e+07  16968337   \n",
       "Healthcare                           398527  2.943511e+08  19443375   \n",
       "Lodging/residential                 2146413  6.003741e+08   5546980   \n",
       "\n",
       "                                            \n",
       "                                       max  \n",
       "primary_use                                 \n",
       "Education                      21904700.00  \n",
       "Entertainment/public assembly    880374.00  \n",
       "Food sales and service             6895.63  \n",
       "Healthcare                        28189.50  \n",
       "Lodging/residential               45409.20  "
      ]
     },
     "execution_count": 75,
     "metadata": {},
     "output_type": "execute_result"
    }
   ],
   "source": [
    "primary_use_agg_meter.head()"
   ]
  },
  {
   "cell_type": "code",
   "execution_count": 77,
   "metadata": {},
   "outputs": [],
   "source": [
    "primary_use_agg_meter = reshape_agg_variable(primary_use_agg_meter)"
   ]
  },
  {
   "cell_type": "code",
   "execution_count": 78,
   "metadata": {},
   "outputs": [
    {
     "data": {
      "text/html": [
       "<div>\n",
       "<style scoped>\n",
       "    .dataframe tbody tr th:only-of-type {\n",
       "        vertical-align: middle;\n",
       "    }\n",
       "\n",
       "    .dataframe tbody tr th {\n",
       "        vertical-align: top;\n",
       "    }\n",
       "\n",
       "    .dataframe thead th {\n",
       "        text-align: right;\n",
       "    }\n",
       "</style>\n",
       "<table border=\"1\" class=\"dataframe\">\n",
       "  <thead>\n",
       "    <tr style=\"text-align: right;\">\n",
       "      <th></th>\n",
       "      <th>meter_reading-count</th>\n",
       "      <th>meter_reading-sum</th>\n",
       "      <th>meter_reading-idxmax</th>\n",
       "      <th>meter_reading-max</th>\n",
       "    </tr>\n",
       "    <tr>\n",
       "      <th>primary_use</th>\n",
       "      <th></th>\n",
       "      <th></th>\n",
       "      <th></th>\n",
       "      <th></th>\n",
       "    </tr>\n",
       "  </thead>\n",
       "  <tbody>\n",
       "    <tr>\n",
       "      <th>Education</th>\n",
       "      <td>8165504</td>\n",
       "      <td>3.743959e+10</td>\n",
       "      <td>8907488</td>\n",
       "      <td>21904700.00</td>\n",
       "    </tr>\n",
       "    <tr>\n",
       "      <th>Entertainment/public assembly</th>\n",
       "      <td>2264917</td>\n",
       "      <td>1.073300e+09</td>\n",
       "      <td>13851463</td>\n",
       "      <td>880374.00</td>\n",
       "    </tr>\n",
       "    <tr>\n",
       "      <th>Food sales and service</th>\n",
       "      <td>114090</td>\n",
       "      <td>3.478696e+07</td>\n",
       "      <td>16968337</td>\n",
       "      <td>6895.63</td>\n",
       "    </tr>\n",
       "    <tr>\n",
       "      <th>Healthcare</th>\n",
       "      <td>398527</td>\n",
       "      <td>2.943511e+08</td>\n",
       "      <td>19443375</td>\n",
       "      <td>28189.50</td>\n",
       "    </tr>\n",
       "    <tr>\n",
       "      <th>Lodging/residential</th>\n",
       "      <td>2146413</td>\n",
       "      <td>6.003741e+08</td>\n",
       "      <td>5546980</td>\n",
       "      <td>45409.20</td>\n",
       "    </tr>\n",
       "  </tbody>\n",
       "</table>\n",
       "</div>"
      ],
      "text/plain": [
       "                               meter_reading-count  meter_reading-sum  \\\n",
       "primary_use                                                             \n",
       "Education                                  8165504       3.743959e+10   \n",
       "Entertainment/public assembly              2264917       1.073300e+09   \n",
       "Food sales and service                      114090       3.478696e+07   \n",
       "Healthcare                                  398527       2.943511e+08   \n",
       "Lodging/residential                        2146413       6.003741e+08   \n",
       "\n",
       "                               meter_reading-idxmax  meter_reading-max  \n",
       "primary_use                                                             \n",
       "Education                                   8907488        21904700.00  \n",
       "Entertainment/public assembly              13851463          880374.00  \n",
       "Food sales and service                     16968337            6895.63  \n",
       "Healthcare                                 19443375           28189.50  \n",
       "Lodging/residential                         5546980           45409.20  "
      ]
     },
     "execution_count": 78,
     "metadata": {},
     "output_type": "execute_result"
    }
   ],
   "source": [
    "primary_use_agg_meter.head()"
   ]
  },
  {
   "cell_type": "code",
   "execution_count": 84,
   "metadata": {},
   "outputs": [
    {
     "data": {
      "text/plain": [
       "Index(['Education', 'Entertainment/public assembly', 'Food sales and service',\n",
       "       'Healthcare', 'Lodging/residential', 'Manufacturing/industrial',\n",
       "       'Office', 'Other', 'Parking', 'Public services', 'Religious worship',\n",
       "       'Retail', 'Services', 'Technology/science', 'Utility',\n",
       "       'Warehouse/storage'],\n",
       "      dtype='object', name='primary_use')"
      ]
     },
     "execution_count": 84,
     "metadata": {},
     "output_type": "execute_result"
    }
   ],
   "source": [
    "primary_use_agg_meter.index"
   ]
  },
  {
   "cell_type": "code",
   "execution_count": 86,
   "metadata": {},
   "outputs": [
    {
     "data": {
      "image/png": "[encoded data removed]",
      "text/plain": [
       "<Figure size 432x288 with 1 Axes>"
      ]
     },
     "metadata": {
      "needs_background": "light"
     },
     "output_type": "display_data"
    }
   ],
   "source": [
    "plt.barh(primary_use_agg_meter.index, primary_use_agg_meter['meter_reading-sum'], align='center', alpha=0.5)\n",
    "plt.xlabel('Energy consumed')\n",
    "plt.title('Aggregate Energy Consumption by Place Type')\n",
    "plt.show()"
   ]
  },
  {
   "cell_type": "code",
   "execution_count": 88,
   "metadata": {},
   "outputs": [],
   "source": [
    "# we can do PCA to see what features are most relevant. lets run XGboost quickly first\n",
    "train_data_df_m = train_data_df.copy()\n",
    "train_data_df_m = train_data_df_m.dropna()"
   ]
  },
  {
   "cell_type": "code",
   "execution_count": 89,
   "metadata": {},
   "outputs": [],
   "source": [
    "train_data_target = train_data_df_m.loc[:,['meter_reading']]\n",
    "del train_data_df_m['meter_reading'] # that is the target\n",
    "del train_data_df_m['timestamp']# let drop the time, can be revisited later"
   ]
  },
  {
   "cell_type": "code",
   "execution_count": 101,
   "metadata": {},
   "outputs": [],
   "source": [
    "# the primary use is better encoded as this is likely to be influential to the prediction\n",
    "lbl_encoder = LabelEncoder()\n",
    "lbl_encoder.fit(train_data_df_m['primary_use'])\n",
    "train_data_df_m['primary_use'] = np.uint8(lbl_encoder.transform(train_data_df_m['primary_use']))"
   ]
  },
  {
   "cell_type": "code",
   "execution_count": 102,
   "metadata": {},
   "outputs": [
    {
     "data": {
      "text/html": [
       "<div>\n",
       "<style scoped>\n",
       "    .dataframe tbody tr th:only-of-type {\n",
       "        vertical-align: middle;\n",
       "    }\n",
       "\n",
       "    .dataframe tbody tr th {\n",
       "        vertical-align: top;\n",
       "    }\n",
       "\n",
       "    .dataframe thead th {\n",
       "        text-align: right;\n",
       "    }\n",
       "</style>\n",
       "<table border=\"1\" class=\"dataframe\">\n",
       "  <thead>\n",
       "    <tr style=\"text-align: right;\">\n",
       "      <th></th>\n",
       "      <th>building_id</th>\n",
       "      <th>meter</th>\n",
       "      <th>site_id</th>\n",
       "      <th>primary_use</th>\n",
       "      <th>square_feet</th>\n",
       "      <th>year_built</th>\n",
       "      <th>floor_count</th>\n",
       "      <th>air_temperature</th>\n",
       "      <th>cloud_coverage</th>\n",
       "      <th>dew_temperature</th>\n",
       "      <th>precip_depth_1_hr</th>\n",
       "      <th>sea_level_pressure</th>\n",
       "      <th>wind_direction</th>\n",
       "      <th>wind_speed</th>\n",
       "    </tr>\n",
       "  </thead>\n",
       "  <tbody>\n",
       "    <tr>\n",
       "      <th>3021</th>\n",
       "      <td>565</td>\n",
       "      <td>0</td>\n",
       "      <td>4</td>\n",
       "      <td>0</td>\n",
       "      <td>15326</td>\n",
       "      <td>1954.0</td>\n",
       "      <td>2.0</td>\n",
       "      <td>9.4</td>\n",
       "      <td>0.0</td>\n",
       "      <td>-2.2</td>\n",
       "      <td>0.0</td>\n",
       "      <td>1021.4</td>\n",
       "      <td>360.0</td>\n",
       "      <td>3.1</td>\n",
       "    </tr>\n",
       "    <tr>\n",
       "      <th>3022</th>\n",
       "      <td>566</td>\n",
       "      <td>0</td>\n",
       "      <td>4</td>\n",
       "      <td>0</td>\n",
       "      <td>2010</td>\n",
       "      <td>1957.0</td>\n",
       "      <td>1.0</td>\n",
       "      <td>9.4</td>\n",
       "      <td>0.0</td>\n",
       "      <td>-2.2</td>\n",
       "      <td>0.0</td>\n",
       "      <td>1021.4</td>\n",
       "      <td>360.0</td>\n",
       "      <td>3.1</td>\n",
       "    </tr>\n",
       "    <tr>\n",
       "      <th>3023</th>\n",
       "      <td>569</td>\n",
       "      <td>0</td>\n",
       "      <td>4</td>\n",
       "      <td>0</td>\n",
       "      <td>86091</td>\n",
       "      <td>1964.0</td>\n",
       "      <td>8.0</td>\n",
       "      <td>9.4</td>\n",
       "      <td>0.0</td>\n",
       "      <td>-2.2</td>\n",
       "      <td>0.0</td>\n",
       "      <td>1021.4</td>\n",
       "      <td>360.0</td>\n",
       "      <td>3.1</td>\n",
       "    </tr>\n",
       "  </tbody>\n",
       "</table>\n",
       "</div>"
      ],
      "text/plain": [
       "      building_id  meter  site_id  primary_use  square_feet  year_built  \\\n",
       "3021          565      0        4            0        15326      1954.0   \n",
       "3022          566      0        4            0         2010      1957.0   \n",
       "3023          569      0        4            0        86091      1964.0   \n",
       "\n",
       "      floor_count  air_temperature  cloud_coverage  dew_temperature  \\\n",
       "3021          2.0              9.4             0.0             -2.2   \n",
       "3022          1.0              9.4             0.0             -2.2   \n",
       "3023          8.0              9.4             0.0             -2.2   \n",
       "\n",
       "      precip_depth_1_hr  sea_level_pressure  wind_direction  wind_speed  \n",
       "3021                0.0              1021.4           360.0         3.1  \n",
       "3022                0.0              1021.4           360.0         3.1  \n",
       "3023                0.0              1021.4           360.0         3.1  "
      ]
     },
     "execution_count": 102,
     "metadata": {},
     "output_type": "execute_result"
    }
   ],
   "source": [
    "train_data_df_m.head(3)"
   ]
  },
  {
   "cell_type": "code",
   "execution_count": 103,
   "metadata": {},
   "outputs": [],
   "source": [
    "x_train, x_val, y_train, y_val = train_test_split(train_data_df_m,train_data_target, test_size =0.3)"
   ]
  },
  {
   "cell_type": "code",
   "execution_count": 104,
   "metadata": {},
   "outputs": [],
   "source": [
    "dtrain =xgb.DMatrix(x_train,label=y_train)\n",
    "dval=xgb.DMatrix(x_val, y_val)\n",
    "\n",
    "param={}\n",
    "param['max_depth'] = 10 #chnage this to 5 and observe any difference in the testing prediction\n",
    "param[\"eta\"]=0.03\n",
    "#param[\"silent\"]=0\n",
    "param[\"objective\"]='reg:squarederror'"
   ]
  },
  {
   "cell_type": "code",
   "execution_count": 105,
   "metadata": {},
   "outputs": [],
   "source": [
    "num=1000\n",
    "xgb_training= xgb.train(param,dtrain,num, verbose_eval = False)\n",
    "\n",
    "y_pred = xgb_training.predict(dval, ntree_limit=xgb_training.best_ntree_limit, output_margin=True)"
   ]
  },
  {
   "cell_type": "code",
   "execution_count": 108,
   "metadata": {},
   "outputs": [
    {
     "data": {
      "text/plain": [
       "<matplotlib.collections.PathCollection at 0x1d9b26c5b70>"
      ]
     },
     "execution_count": 108,
     "metadata": {},
     "output_type": "execute_result"
    },
    {
     "data": {
      "image/png": "[encoded data removed]",
      "text/plain": [
       "<Figure size 432x288 with 1 Axes>"
      ]
     },
     "metadata": {
      "needs_background": "light"
     },
     "output_type": "display_data"
    }
   ],
   "source": [
    "fig = plt.figure()\n",
    "ax = fig.add_subplot(111)\n",
    "ax.set_title('Crossplot for Energy Consumption Prediction')\n",
    "ax.set_xlabel('Predicted Meter reading')\n",
    "ax.set_ylabel('Actual Meter Reading')\n",
    "ax.scatter(y_pred, y_val, marker='*', alpha=0.3)"
   ]
  },
  {
   "cell_type": "code",
   "execution_count": 106,
   "metadata": {},
   "outputs": [],
   "source": [
    "from datetime import datetime\n",
    "today = datetime.today()"
   ]
  }
 ],
 "metadata": {
  "kernelspec": {
   "display_name": "Python 3",
   "language": "python",
   "name": "python3"
  },
  "language_info": {
   "codemirror_mode": {
    "name": "ipython",
    "version": 3
   },
   "file_extension": ".py",
   "mimetype": "text/x-python",
   "name": "python",
   "nbconvert_exporter": "python",
   "pygments_lexer": "ipython3",
   "version": "3.7.1"
  }
 },
 "nbformat": 4,
 "nbformat_minor": 2
}
